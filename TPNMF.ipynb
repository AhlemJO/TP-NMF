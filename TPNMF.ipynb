{
 "cells": [
  {
   "cell_type": "markdown",
   "metadata": {},
   "source": [
    "# Computer Lab: nonnegative matrix factorization"
   ]
  },
  {
   "cell_type": "markdown",
   "metadata": {},
   "source": [
    "<b> Student : </b> Ahlem JOUIDI"
   ]
  },
  {
   "cell_type": "code",
   "execution_count": 84,
   "metadata": {},
   "outputs": [],
   "source": [
    "import numpy as np\n",
    "import matplotlib.pyplot as plt\n",
    "import scipy.optimize\n",
    "import scipy.sparse\n",
    "import scipy.sparse.linalg"
   ]
  },
  {
   "cell_type": "markdown",
   "metadata": {},
   "source": [
    "<b>Database : </b> The database of faces, collected by AT&T Laboratories Cambridge, on https://www.cl.cam.ac.uk/research/dtg/attarchive/facedatabase.html."
   ]
  },
  {
   "cell_type": "markdown",
   "metadata": {},
   "source": [
    "### Q1 : How many images are there in the database? How many pixels are there in each image?"
   ]
  },
  {
   "cell_type": "markdown",
   "metadata": {},
   "source": [
    "There are 400 photos in the dataset. The size of each photo is 92x112."
   ]
  },
  {
   "cell_type": "code",
   "execution_count": 86,
   "metadata": {},
   "outputs": [],
   "source": [
    "def build_matrix_from_faces(folder='orl_faces', minidata=False):\n",
    "    # load images\n",
    "    # 400 images of size (112, 92)\n",
    "    M = []\n",
    "    if minidata is True:\n",
    "        nb_subjects = 1\n",
    "    else:\n",
    "        nb_subjects = 40\n",
    "    for subject in range(1, nb_subjects + 1\n",
    "                        ):\n",
    "        for image in range(1, 11):\n",
    "            face = plt.imread(folder + '/s' + str(subject)\n",
    "                              + '/' + str(image) + '.pgm')\n",
    "            M.append(face.ravel())\n",
    "\n",
    "    return np.array(M, dtype=float)\n",
    "\n",
    "def vectorize(W, H):\n",
    "    return np.concatenate((W.ravel(), H.ravel()))\n",
    "\n",
    "def unvectorize_M(W_H, M):\n",
    "    # number of elements in W_H is (n+p)*k where M is of size n x m\n",
    "    # W has the nk first elements\n",
    "    # H has the kp last elements\n",
    "    n, p = M.shape\n",
    "    k = W_H.shape[0] // (n + p)\n",
    "    W = W_H[:n * k].reshape((n, k))\n",
    "    H = W_H[n * k:].reshape((k, p))\n",
    "    return W, H"
   ]
  },
  {
   "cell_type": "markdown",
   "metadata": {
    "collapsed": true
   },
   "source": [
    "Download the database at https://www.cl.cam.ac.uk/research/dtg/attarchive/facedatabase.html\n",
    "Uncompress the file."
   ]
  },
  {
   "cell_type": "code",
   "execution_count": 87,
   "metadata": {},
   "outputs": [],
   "source": [
    "# Small data to test the algorithm\n",
    "M = build_matrix_from_faces(folder='orl_faces', minidata=True)\n",
    "def unvectorize(W_H): return unvectorize_M(W_H, M)\n",
    "k = 2"
   ]
  },
  {
   "cell_type": "code",
   "execution_count": 88,
   "metadata": {},
   "outputs": [
    {
     "data": {
      "image/png": "[encoded data removed]",
      "text/plain": [
       "<Figure size 432x288 with 1 Axes>"
      ]
     },
     "metadata": {},
     "output_type": "display_data"
    }
   ],
   "source": [
    "# To see the first face:\n",
    "plt.imshow(M[0].reshape((112, 92)), cmap='gray'); plt.show()"
   ]
  },
  {
   "cell_type": "code",
   "execution_count": 92,
   "metadata": {},
   "outputs": [],
   "source": [
    "# Full data\n",
    "M = build_matrix_from_faces(folder='orl_faces', minidata=False)\n",
    "def unvectorize(W_H): return unvectorize_M(W_H, M)\n",
    "k = 38\n",
    "n = M.shape[0]\n",
    "p = M.shape[1]"
   ]
  },
  {
   "cell_type": "code",
   "execution_count": null,
   "metadata": {},
   "outputs": [],
   "source": []
  },
  {
   "cell_type": "markdown",
   "metadata": {},
   "source": [
    "### Question 2.1 Show that the objective function is not convex. Calculate its gradient. Is the gradient Lipschitz continuous?"
   ]
  },
  {
   "cell_type": "markdown",
   "metadata": {},
   "source": [
    "Convexity of f : \n",
    "    We will give a countre-example that does not verify the convex inequality: \n",
    "let's assume that n = m = k = 1.  $$ \\\\ $$ Let f be the objective function. Let  $ X = (W_1, H_1) $, Y = $(W_2, H_2)$ and t= 1/2.   $$ $$  Assume that $ W_1 = 0 , H_1 = 0. $  \n",
    "We have:  \n",
    "\n",
    "\n",
    "$$  f ( t X + (1-t) Y)  = f  ( (  t W_1 + (1-t) W_2  , t H_1  + (1-t) H_2 ) ) =   || M- t  (1-t) \\times  W_2 H_1 ||^2  .$$\n",
    "\n",
    "\n",
    "Now assume that $ W_2 $ = 8 and $ H_1 $ = 5, M=1  \n",
    "we get that  $$ || ( M- t (1-t)   W_2 H_1 ||^2   = 81. $$\n",
    "On the other side we have $$ t  f(X) + (1-t)  f(Y) =  || M || = 1. $$\n",
    "Finally we get that $$ f(t \\times X + (1-t) \\times Y) > t \\times f(X) + (1-t) \\times f(Y) $$ Which contradicts the convex inequality. "
   ]
  },
  {
   "cell_type": "markdown",
   "metadata": {},
   "source": [
    " Gradient of f\n",
    "Calculate the gradient of the objective function :\n",
    "Let's calculate \n",
    "$$ \\frac{ \\mathbf ||M-W*(H+ \\delta H)||^2 }{2np} = \\frac{ tr( (M-W(H+ \\delta H)) (M-W(H- \\delta H))^t ) }{2np} \\\\\n",
    "                               =\\frac{ tr( ((M-WH) - \\delta W)H) ((M-WH) - \\delta W)H)^t )}{2np} \\\\\n",
    "                               = \\frac{ tr ( (M-WH)(M-WH)^t ) - 1/np \\times tr( (M-WH)( W \\delta H)^t ) + o(\\mathbf \\delta H)}{2np} \\\\\n",
    "                               = \\frac{tr ( (M-WH)(M-WH)^t ) - 1/np \\times tr( W^t (M-WH), \\delta H^t)  + o(\\mathbf \\delta H)}{2np} $$\n",
    "\n",
    "Using The Fundamental Theorem of the Calculus of Finite Differences \n",
    "$$ f(x+\\delta x) - f(x) = <\\delta f(x) , \\delta x> + o(\\mathbf \\delta x) $$                            \n",
    "\n",
    "By identification we can set :\n",
    "$$ f(W,H)=  \\frac{tr ( (M-WH)(M-WH)^t )}{2np} $$\n",
    "$$ \\Delta w f(W,H) =  \\frac{ (WH-M)H^t}{np}$$\n",
    "\n",
    "And by the same way, we calculate $$ \\frac{ \\mathbf ||M-(W+ \\delta W)H||^2}{2np} $$ we have \n",
    "$$ \\Delta _H f(W,H) = \\frac{  W^t (M-WH)}{np} $$\n"
   ]
  },
  {
   "cell_type": "markdown",
   "metadata": {},
   "source": [
    "## 3 Find W when H0 is fixed"
   ]
  },
  {
   "cell_type": "markdown",
   "metadata": {},
   "source": [
    "We initialize the optimization algorithm as follows:\n",
    "\n",
    "    W0, S, H0 = scipy.sparse.linalg.svds(M, k)\n",
    "    W0 = numpy.maximum(0, W0 * numpy.sqrt(S))\n",
    "    H0 = numpy.maximum(0,(H0.T * numpy.sqrt(S)).T)\n"
   ]
  },
  {
   "cell_type": "markdown",
   "metadata": {},
   "source": [
    "### Q 3.1 What is the advantage of this choice? What would be other possibilities for the initial-ization?"
   ]
  },
  {
   "cell_type": "markdown",
   "metadata": {},
   "source": [
    " We see that the gradient is of degree 3 (in W and H). \n",
    "Therefore, the gradient of  $ f $ is not Lipschitz-continuous."
   ]
  },
  {
   "cell_type": "code",
   "execution_count": 139,
   "metadata": {},
   "outputs": [],
   "source": [
    "W0, S, H0 = scipy.sparse.linalg.svds(M, k)\n",
    "W0 = np.maximum(0, W0 * np.sqrt(S))\n",
    "H0 = np.maximum(0,(H0.T * np.sqrt(S)).T)\n"
   ]
  },
  {
   "cell_type": "markdown",
   "metadata": {},
   "source": [
    "The singular value decomposition gives  2 matrices, Just like the form of the problem. \n",
    "Taking the coeficiens as Max(0, W) ensures W > 0 and the zeros make it a sparse matrix.  This means that we are reducing the number of parameters and simplifying calculations."
   ]
  },
  {
   "cell_type": "markdown",
   "metadata": {},
   "source": [
    "### Question 3.2 Is the objective function g convex? Calculate its gradient. We will admit that the gradient of g is Lipschitz continuous with constant L0 = k(H0)>H0kF ."
   ]
  },
  {
   "cell_type": "markdown",
   "metadata": {},
   "source": [
    "\n",
    "$g$ is now a convex function. $\\forall$  a nonnegative matrix W with size $ n \\times k $:   $$  $$ \n",
    "$$ g(W)=\\frac{\\left || M -WH_0\\right ||^2}{2np}$$ \n",
    "$\\forall W$ , $g(W)=\\frac{\\left | M -WH_0\\right |^2}{2np}$$= \\frac{\\sum_{i=1}^{n}\\sum_{j=1}^{p} (M_{i,j}-\\sum_{l=1}^{k} W_{i,l}H_{0_{l,j}})^2}{2np}$$=   \\frac{\\sum_{i=1}^{n}\\sum_{j=1}^{p} M_{i,j}^2-2M_{i,j}\\sum_{l=1}^{k} W_{i,l}H_{0_{l,j}} +(\\sum_{l=1}^{k} W_{i,l}H_{0_{l,j}})^2}{2np}\\\\ $. \n",
    "The function can be decomposed as the sum of convex functions $ \\Rightarrow $  $g$ is convex."
   ]
  },
  {
   "cell_type": "markdown",
   "metadata": {},
   "source": [
    "$g(W+h)=\\frac{\\left | M -WH_0\\right |^2}{2np}=\\frac{\\langle\\,M-WH_0-hH_0,M-WH_0-hH_0\\rangle}{2np}=\\frac{\\left | M -WH_0\\right |^2-2\\langle\\,M-WH_0,hH_0\\rangle + o(\\left | h\\right |^2) }{2np}=\\frac{\\left | M -WH_0\\right |^2-2\\langle\\,(M-WH_0)H_0^T,h\\rangle + o(\\left | h\\right |^2) }{2np} $.\n",
    "$$$$\n",
    "Therefore, $ \\triangledown g(W) = \\frac{-(M-WH_0)H_0^T}{np}$"
   ]
  },
  {
   "cell_type": "markdown",
   "metadata": {},
   "source": [
    "### Question 3.3 Write a function to compute g(W) and another to compute rg(W).\n",
    "You can check your computations using the function scipy.optimize.check grad (as\n",
    "check grad cannot deal with matrix variable, you may need to vectorize your variables)."
   ]
  },
  {
   "cell_type": "code",
   "execution_count": 140,
   "metadata": {},
   "outputs": [
    {
     "name": "stdout",
     "output_type": "stream",
     "text": [
      "G(W0)= 878.916653181886\n",
      "dG(W0) [[0.01641867 0.01647908 0.0194469  ... 0.06766629 0.03723525 0.23410547]\n",
      " [0.00977077 0.01440896 0.01382352 ... 0.02895313 0.05931482 0.30704021]\n",
      " [0.01783746 0.0187198  0.01649104 ... 0.04621488 0.05621137 0.2548014 ]\n",
      " ...\n",
      " [0.01705013 0.0186659  0.02259787 ... 0.03190761 0.04121826 0.32110996]\n",
      " [0.01011337 0.01420269 0.01461199 ... 0.02038143 0.02568511 0.18979599]\n",
      " [0.01330702 0.01398558 0.01635192 ... 0.02120499 0.03551692 0.25846626]]\n"
     ]
    }
   ],
   "source": [
    "def G(W):\n",
    "    return (1/(2*n*p) * (np.linalg.norm((M - np.dot(W, H0)),'fro'))**2)\n",
    "print ('G(W0)=',G(W0))\n",
    "def dG(W):\n",
    "    temp = (M - np.dot(W, H0))\n",
    "    ans = -(1/(n*p) * np.dot(temp, H0.T))\n",
    "    return ans\n",
    "print('dG(W0)',dG(W0))"
   ]
  },
  {
   "cell_type": "markdown",
   "metadata": {},
   "source": []
  },
  {
   "cell_type": "markdown",
   "metadata": {},
   "source": [
    "### Question 3.4 Show that for all $ \\xi > 0 $ , prox(R+) is the projection onto R+.\n",
    "Let's compute $ prox_{\\varsigma _{\\mathbb{R_+}}} $ $$ p = prox_{\\varsigma _{\\mathbb{R_+}}} (x) \\Leftrightarrow p \\in \\underset{y \\in \\mathbb{R}}{argmin}(\\varsigma _{\\mathbb{R_+}} + \\frac{\\left \\| y-x \\right \\|^2}{2}) \\Leftrightarrow p \\in \\underset{y \\in \\mathbb{R_+}}{argmin}(\\left \\| y-x \\right \\|^2) \\Leftrightarrow $$  p is the projection onto $\\mathbb{R_+}$. Since $\\gamma \\varsigma _{\\mathbb{R_+}} =\\varsigma _{\\mathbb{R_+}}$, then we have that $ prox_{\\varsigma _{\\mathbb{R_+}}} = prox_{\\gamma \\varsigma _{\\mathbb{R_+}}} $."
   ]
  },
  {
   "cell_type": "markdown",
   "metadata": {},
   "source": [
    "### Question 3.5 Code a function projected gradient method(val g, grad g, W0, gamma, N) that mini-mizes a function g subject to nonnegativity constraints by the projected gradient method with a constant step size  , starting from W0 and stopping after N iterations."
   ]
  },
  {
   "cell_type": "markdown",
   "metadata": {},
   "source": [
    "We minimize g under nonnegativity constraints $ \\Leftrightarrow x_{k+1} = proj_{M_{\\mathbb{R_+}}} (x_k - \\gamma \\triangledown g(x_k))$\n"
   ]
  },
  {
   "cell_type": "code",
   "execution_count": 151,
   "metadata": {},
   "outputs": [],
   "source": [
    "def proj (x):\n",
    "    for i in range (x.shape[0]):\n",
    "         x[i] = np.maximum(0, x[i])\n",
    "    return x\n",
    "def projected_gradient_method(G, dG, W0, gamma, N):\n",
    "    mini = []\n",
    "    for i in range (N):\n",
    "        W0 = proj(W0 - gamma * dG(W0))\n",
    "        mini.append(G(W0))\n",
    "    return (mini)   \n",
    "        "
   ]
  },
  {
   "cell_type": "markdown",
   "metadata": {},
   "source": [
    "### Question 3.6 Use the function to minimize g with N = 100."
   ]
  },
  {
   "cell_type": "code",
   "execution_count": 152,
   "metadata": {},
   "outputs": [
    {
     "name": "stdout",
     "output_type": "stream",
     "text": [
      "The fixed step size is 3.464699897517404e-06\n",
      "The objective function calculated with w0 878.916653181886\n",
      "The local minimum occurs at 878.9017060289473\n"
     ]
    }
   ],
   "source": [
    "L0 = np.linalg.norm(np.dot(H0.T, H0), \"fro\")    \n",
    "gamma=1/L0\n",
    "N=100\n",
    "cur_w= projected_gradient_method(G, dG, W0, gamma, N)\n",
    "print('The fixed step size is', 1/L0)\n",
    "print ('The objective function calculated with w0',G(W0))\n",
    "print(\"The local minimum occurs at\", cur_w[N-1])\n"
   ]
  },
  {
   "cell_type": "markdown",
   "metadata": {},
   "source": [
    "## 4 Algorithmic refinement for the problem with H0 fixed"
   ]
  },
  {
   "cell_type": "markdown",
   "metadata": {},
   "source": [
    "### Question 4.1 Implement a line search to the projected gradient method, in order to free ourselves from the need of a known Lipschitz constant."
   ]
  },
  {
   "cell_type": "markdown",
   "metadata": {},
   "source": [
    " To search the optimal step gamma at eatch iteration, we have to determine $ \\gamma $ that minimize $$ f(\\gamma)=g(W_k-\\gamma \\Delta g(W_k)) $$\n",
    " So the probleme is one dimmensional optimization problem.\n",
    " $$ f(\\gamma)=g(W_k-\\gamma \\Delta g(W_k)) =  \\frac{ tr ( (M- \\gamma \\Delta g(W_k)H_0) (M- \\gamma \\Delta g(W_k)H_0)^t)}{2np} \\\\ $$\n",
    " Let's calculate $$ \\frac{ \\delta f}{\\delta \\gamma}    \n",
    "    =  \\frac{ 2 tr ( (M- W_k H_0) (\\Delta g(W_k)H_0)^t ) + 2 \\gamma tr( \\Delta g(W_k)H_0 H_0^t \\Delta g(W_k)^t)}{2np} $$ \n",
    " then to have the minimiser \n",
    "    $$   \\frac{ \\delta f}{\\delta \\gamma}  = 0$$\n",
    "     $$  tr( (M- W_k H_0) (\\Delta g(W_k)H_0)^t ) = \\gamma tr( \\Delta g(W_k) H_0 H_0^t \\Delta g(W_k)^t) \\\\ $$\n",
    "   \n",
    " finally we get\n",
    "   $$ \\gamma = \\frac{tr ( ( W_k H_0-M) (\\Delta g(W_k)H_0)^t ) }{\\gamma tr( \\Delta g(W_k)H_0 H_0^t \\Delta g(W_k)^t)} $$\n",
    "    "
   ]
  },
  {
   "cell_type": "code",
   "execution_count": 104,
   "metadata": {},
   "outputs": [
    {
     "name": "stdout",
     "output_type": "stream",
     "text": [
      "The first step size is 14.571382300986286\n"
     ]
    }
   ],
   "source": [
    "def line_search(W0,M,H0,dG):\n",
    "    p1=np.dot(dG(W0),H0)\n",
    "    p2=np.dot(W0,H0)\n",
    "    gamma=(np.dot(p2,p1.T).trace()-np.dot(M,p1.T).trace())/np.dot(p1,p1.T).trace()\n",
    "    return gamma\n",
    "print('The first step size is', line_search(W0,M,H0,dG))\n"
   ]
  },
  {
   "cell_type": "markdown",
   "metadata": {},
   "source": [
    "### Question 4.2 Compare the performance of both algorithms."
   ]
  },
  {
   "cell_type": "code",
   "execution_count": 154,
   "metadata": {},
   "outputs": [
    {
     "name": "stdout",
     "output_type": "stream",
     "text": [
      "The local minimum is  474.61077982214107\n"
     ]
    }
   ],
   "source": [
    "def proj (x):\n",
    "    for i in range (x.shape[0]):\n",
    "         x[i] = np.maximum(0, x[i])\n",
    "    return x\n",
    "\n",
    "def projected_gradient_method_optimal_step(G, dG, W0,  N):\n",
    "    mini=[]\n",
    "    for i in range (N):\n",
    "        gamma=line_search(W0,M,H0,dG)\n",
    "        W0 = proj(W0 - gamma * dG(W0))\n",
    "        mini.append(G(W0))\n",
    "    return (mini)   \n",
    "\n",
    "N=100    \n",
    "cur_w1= projected_gradient_method_optimal_step(G, dG, W0,  N)\n",
    "print('The local minimum is ',cur_w1[N-1])  "
   ]
  },
  {
   "cell_type": "code",
   "execution_count": null,
   "metadata": {},
   "outputs": [],
   "source": [
    "# plt.plot(np.arange(0, N, 1), cur_w, '-b', label= 'PGM')\n",
    "plt.plot(np.arange(0, N, 1), cur_w1, '-g', label = 'Line Search')\n",
    "plt.legend(loc='upper left')\n",
    "plt.show()"
   ]
  },
  {
   "cell_type": "markdown",
   "metadata": {},
   "source": [
    "## 5 Resolution of the full problem"
   ]
  },
  {
   "cell_type": "markdown",
   "metadata": {},
   "source": [
    "### Question 5.1 Solve Problem (1) by the projected gradient method with line search for N = 1000 iterations. What does the algorithm return?"
   ]
  },
  {
   "cell_type": "code",
   "execution_count": 125,
   "metadata": {},
   "outputs": [
    {
     "name": "stdout",
     "output_type": "stream",
     "text": [
      "-4.092186145188135\n"
     ]
    }
   ],
   "source": [
    "N = 1000\n",
    "v1000 = projected_gradient_method_optimal_step(G, dG, W0, N)\n",
    "print(v1000[N-1])"
   ]
  },
  {
   "cell_type": "markdown",
   "metadata": {},
   "source": [
    "### Question 5.2 Show that the value of the objective in decreasing at each iteration. Deduce from this that the value converges."
   ]
  },
  {
   "cell_type": "markdown",
   "metadata": {},
   "source": [
    "Let:\n",
    "\n",
    "$ W_{t} = arg min_{W} \\frac{1}{2np} \\left\\lVert M - W H_{t-1} \\right\\rVert  $\n",
    "\n",
    "$ H_{t} = arg min_{H} \\frac{1}{2np} \\left\\lVert M - W_{t} H \\right\\rVert  $\n",
    "\n",
    "We will compare $f(x-1)$ and $f(x)$ , it is clear that f is positive (f is defined as a norm) so we can compare its square root\n",
    "\n",
    "by the definition of $arg min_{W}$ we have that: $ \\frac{1}{\\sqrt2np} \\left\\lVert M - W_{t}H_{t} \\right\\rVert \\leq \\frac{1}{\\sqrt2np} \\left\\lVert M - W_{t}H_{t-1} \\right\\rVert $\n",
    "\n",
    "\n",
    "also by the definition of $arg min_{H}$ we have: $ \\frac{1}{\\sqrt2np} \\left\\lVert M - W_{t}H_{t-1} \\right\\rVert \\leq \\frac{1}{\\sqrt2np} \\left\\lVert M - W_{t-1}H_{t-1} \\right\\rVert $\n",
    "\n",
    "\n",
    "Final we have: $ \\frac{1}{\\sqrt2np} \\left\\lVert M - W_{t}H_{t} \\right\\rVert \\leq \\frac{1}{\\sqrt2np} \\left\\lVert M - W_{t-1}H_{t-1} \\right\\rVert $\n",
    "\n",
    "As conclusion, we have that f is positive + decreasing ==> it converges\n"
   ]
  },
  {
   "cell_type": "markdown",
   "metadata": {},
   "source": [
    "### Question 5.3 Code the alternate minimizations method."
   ]
  },
  {
   "cell_type": "code",
   "execution_count": 160,
   "metadata": {},
   "outputs": [],
   "source": [
    "def G1(W, H):\n",
    "    return (1/(2*n*p) * (np.linalg.norm((M - np.dot(W, H)),'fro'))**2)\n",
    "def dG_W(W, H):\n",
    "    temp = (M - np.dot(W, H))\n",
    "    ans = -(1/(n*p) * np.dot(temp, H.T))\n",
    "    return ans\n",
    "def dG_H(W, H):\n",
    "    temp = (M - np.dot(W, H))\n",
    "    ans = -(1/(n*p) * np.dot(W.T, temp))\n",
    "    return ans"
   ]
  },
  {
   "cell_type": "code",
   "execution_count": 161,
   "metadata": {},
   "outputs": [],
   "source": [
    "def alternate_minimization (G1, dG_w, dG_H, gamma, W, H, N):\n",
    "    results = []\n",
    "    for i in range (N):\n",
    "        W = proj(W - gamma * dG_W(W, H))\n",
    "        H = proj(H - gamma * dG_H(W, H))\n",
    "        results.append(G1(W, H))\n",
    "    return results"
   ]
  },
  {
   "cell_type": "markdown",
   "metadata": {},
   "source": [
    "### Question 5.4 Compare projected gradient and alternate minimizations methods. Are the solutions the same? Is the objective value the same? How do the computing times compare?"
   ]
  },
  {
   "cell_type": "code",
   "execution_count": 162,
   "metadata": {},
   "outputs": [],
   "source": [
    "N = 100\n",
    "vAlternateMinimization = alternate_minimization (G1, dG_w, dG_H, 1/L0, W0, H0, N)"
   ]
  },
  {
   "cell_type": "code",
   "execution_count": 165,
   "metadata": {},
   "outputs": [
    {
     "data": {
      "image/png": "[encoded data removed]",
      "text/plain": [
       "<Figure size 432x288 with 1 Axes>"
      ]
     },
     "metadata": {},
     "output_type": "display_data"
    },
    {
     "name": "stdout",
     "output_type": "stream",
     "text": [
      "Project gradient method with fixed step: 878.9017060289473\n",
      "Alternate minimizations: 878.8859911639315\n"
     ]
    }
   ],
   "source": [
    "plt.plot(np.arange(0, N, 1), cur_w, '-b', label= 'PGM')\n",
    "plt.plot(np.arange(0, N, 1), vAlternateMinimization, '-g', label = 'Alternate minimizations')\n",
    "plt.legend(loc='upper left')\n",
    "plt.show()\n",
    "print('Project gradient method with fixed step:', cur_w[N-1])\n",
    "print('Alternate minimizations:', vAlternateMinimization[N-1])"
   ]
  },
  {
   "cell_type": "markdown",
   "metadata": {},
   "source": [
    "From the graph, we can see that the minimizations method has better results. The alternate method converge slowly than the alternate method (having higher computing time).\n",
    "So to optimize our program, we have to use the preojected gradient to have better performance.\n"
   ]
  },
  {
   "cell_type": "markdown",
   "metadata": {},
   "source": [
    "### Question 5.5 What stopping criterion could be used for the algorithms instead of just the number of iterations?"
   ]
  },
  {
   "cell_type": "markdown",
   "metadata": {},
   "source": [
    "The stopping critereon might be : $$\\\\$$\n",
    "     the gradient is close enough to zero. $$ ||\\Delta f(x_k)|| <= \\epsilon $$ \n",
    "     the sequence $ x_k $ is almost stationary   $$f(x_k) - f(x_k+1) <= \\epsilon $$\n",
    "where $\\epsilon$ is a given parametre   "
   ]
  },
  {
   "cell_type": "code",
   "execution_count": null,
   "metadata": {},
   "outputs": [],
   "source": []
  }
 ],
 "metadata": {
  "kernelspec": {
   "display_name": "Python 3",
   "language": "python",
   "name": "python3"
  },
  "language_info": {
   "codemirror_mode": {
    "name": "ipython",
    "version": 3
   },
   "file_extension": ".py",
   "mimetype": "text/x-python",
   "name": "python",
   "nbconvert_exporter": "python",
   "pygments_lexer": "ipython3",
   "version": "3.7.1"
  }
 },
 "nbformat": 4,
 "nbformat_minor": 2
}
